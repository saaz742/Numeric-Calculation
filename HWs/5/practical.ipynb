{
  "cells": [
    {
      "cell_type": "markdown",
      "metadata": {
        "id": "ti9ZL7QgTOjS"
      },
      "source": [
        "# Numerical computations\n",
        "## Homework 5\n",
        "## Ordinary Differential equations\n",
        "\n",
        "Execute this section to install the needed libraries."
      ]
    },
    {
      "cell_type": "code",
      "execution_count": 91,
      "metadata": {
        "id": "YQP6d1lzTOjV"
      },
      "outputs": [],
      "source": [
        "from sympy import *\n",
        "import sympy\n",
        "import math\n",
        "import numpy as np\n",
        "from matplotlib import pyplot as plt"
      ]
    },
    {
      "cell_type": "markdown",
      "metadata": {
        "id": "AaGAVkuxTOjd"
      },
      "source": [
        "### 1. Find general answer of these ODEs (use the given library) (10 points):\n",
        "\n",
        "I. (5 points)\n",
        "$$y^{(4)} - 3 y ^{(2)} + y - 1 = 0 $$\n"
      ]
    },
    {
      "cell_type": "code",
      "execution_count": 92,
      "metadata": {
        "id": "zsa8jNs0TOje"
      },
      "outputs": [
        {
          "name": "stdout",
          "output_type": "stream",
          "text": [
            "Eq(y(x), C1*exp(-sqrt(6)*x*sqrt(1 + sqrt(13))/6) + C2*exp(sqrt(6)*x*sqrt(1 + sqrt(13))/6) + C3*sin(sqrt(6)*x*sqrt(-1 + sqrt(13))/6) + C4*cos(sqrt(6)*x*sqrt(-1 + sqrt(13))/6) + 1)\n"
          ]
        }
      ],
      "source": [
        "x = sympy.symbols('x')\n",
        "y = sympy.Function('y')\n",
        "y1 = sympy.Derivative(y(x), x, x)\n",
        "y2 = sympy.Derivative(y(x), x, x, x, x)\n",
        "res = sympy.dsolve(y1 - 3 * y2 + y(x) - 1, y(x))\n",
        "print(res)\n",
        "# sympy.pprint(res) math format\n"
      ]
    },
    {
      "cell_type": "markdown",
      "metadata": {
        "id": "oiY_0_sUTOje"
      },
      "source": [
        "II. (5 points)\n",
        "$$y^{(3)} + 2y^{(2)} + 3y^{(1)} + 4y + 5 = 0$$"
      ]
    },
    {
      "cell_type": "code",
      "execution_count": 93,
      "metadata": {
        "id": "fFxUzQI9TOjf"
      },
      "outputs": [
        {
          "name": "stdout",
          "output_type": "stream",
          "text": [
            "Eq(y(x), C1*exp(x*(-4 - 5**(2/3)/(7 + 3*sqrt(6))**(1/3) + 5**(1/3)*(7 + 3*sqrt(6))**(1/3))/6)*sin(sqrt(3)*5**(1/3)*x*(5**(1/3)/(7 + 3*sqrt(6))**(1/3) + (7 + 3*sqrt(6))**(1/3))/6) + C2*exp(x*(-4 - 5**(2/3)/(7 + 3*sqrt(6))**(1/3) + 5**(1/3)*(7 + 3*sqrt(6))**(1/3))/6)*cos(sqrt(3)*5**(1/3)*x*(5**(1/3)/(7 + 3*sqrt(6))**(1/3) + (7 + 3*sqrt(6))**(1/3))/6) + C3*exp(x*(-5**(1/3)*(7 + 3*sqrt(6))**(1/3) - 2 + 5**(2/3)/(7 + 3*sqrt(6))**(1/3))/3) - 5/4)\n"
          ]
        }
      ],
      "source": [
        "y1 = sympy.Derivative(y(x), x)\n",
        "y2 = sympy.Derivative(y(x), x, x)\n",
        "y3 = sympy.Derivative(y(x), x, x, x)\n",
        "res = sympy.dsolve(y3 + 2 * y2 + 3 * y1 + 4 * y(x) + 5, y(x))\n",
        "print(res)\n",
        "# sympy.pprint(res)   math format\n"
      ]
    },
    {
      "cell_type": "markdown",
      "metadata": {
        "id": "0m-FsNd3TOjf"
      },
      "source": [
        "### 2. Solve the given first order non-linear ODE Using 4th order Runge-kutta method and then plot it (20 points)\n",
        "\n",
        "For a sample equation:\n",
        "\n",
        "$$y^{(1)} = \\frac{ye^x}{1+e^x}$$\n",
        "$$ interval = (1, 10) $$\n",
        "$$ h = 0.01 $$\n",
        "$$ y(1) = 1 $$\n",
        "\n",
        "We have this input (in the same order):\n",
        "\n",
        "```\n",
        "y * exp(x) / (1 + exp(x))\n",
        "1 10\n",
        "0.01\n",
        "1\n",
        "```\n",
        "\n",
        "Note that the equation might contain functions of x.\n"
      ]
    },
    {
      "cell_type": "code",
      "execution_count": 94,
      "metadata": {
        "id": "hoWc592Hzs5m"
      },
      "outputs": [
        {
          "name": "stdout",
          "output_type": "stream",
          "text": [
            "5924.09795621347\n"
          ]
        },
        {
          "data": {
            "image/png": "[encoded data removed]",
            "text/plain": [
              "<Figure size 432x288 with 1 Axes>"
            ]
          },
          "metadata": {
            "needs_background": "light"
          },
          "output_type": "display_data"
        }
      ],
      "source": [
        "\n",
        "def runge_kutta(xp, x0, x, h, y):\n",
        "    n = (int)((x - x0)/h)\n",
        "    listy = []\n",
        "    for i in range(1, n + 1):\n",
        "        k1 = h * xp(x0, y)\n",
        "        k2 = h * xp(x0 + 0.5 * h, y + 0.5 * k1)\n",
        "        k3 = h * xp(x0 + 0.5 * h, y + 0.5 * k2)\n",
        "        k4 = h * xp(x0 + h, y + k3)\n",
        "        y += (1 / 6)*(k1 + 2 * k2 + 2 * k3 + k4)\n",
        "        listy.append(y)\n",
        "        x0 += h\n",
        "    return listy\n",
        "\n",
        "\n",
        "if __name__ == '__main__':\n",
        "    inpu = input('enter fun : ')\n",
        "    xp = lambda x,y: eval(inpu)\n",
        "    x0, x = map(int, input().split())\n",
        "    h = float(input())\n",
        "    y = int(input())\n",
        "    z = runge_kutta(xp, x0, x, h, y)\n",
        "    print(z[-1])\n",
        "    plt.plot(z)\n",
        "    plt.show()\n",
        "    \n",
        "\n",
        "\n",
        "\n"
      ]
    }
  ],
  "metadata": {
    "colab": {
      "name": "practical.ipynb",
      "provenance": []
    },
    "kernelspec": {
      "display_name": "Python 3",
      "language": "python",
      "name": "python3"
    },
    "language_info": {
      "codemirror_mode": {
        "name": "ipython",
        "version": 3
      },
      "file_extension": ".py",
      "mimetype": "text/x-python",
      "name": "python",
      "nbconvert_exporter": "python",
      "pygments_lexer": "ipython3",
      "version": "3.10.0"
    }
  },
  "nbformat": 4,
  "nbformat_minor": 0
}
